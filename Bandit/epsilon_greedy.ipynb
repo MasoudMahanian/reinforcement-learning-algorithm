{
 "cells": [
  {
   "cell_type": "code",
   "execution_count": 1,
   "metadata": {
    "executionInfo": {
     "elapsed": 1550,
     "status": "ok",
     "timestamp": 1619589178724,
     "user": {
      "displayName": "ali ghandi",
      "photoUrl": "https://lh3.googleusercontent.com/a-/AOh14GgpQfDUUwGAY8UikVPosVH-EO9X3F39efNCaXLmxA=s64",
      "userId": "08717455413485940524"
     },
     "user_tz": -270
    },
    "id": "VYn1VKXrO31L"
   },
   "outputs": [],
   "source": [
    "import matplotlib.pyplot as plt\n",
    "import numpy as np"
   ]
  },
  {
   "cell_type": "code",
   "execution_count": 2,
   "metadata": {
    "executionInfo": {
     "elapsed": 906,
     "status": "ok",
     "timestamp": 1619589833128,
     "user": {
      "displayName": "ali ghandi",
      "photoUrl": "https://lh3.googleusercontent.com/a-/AOh14GgpQfDUUwGAY8UikVPosVH-EO9X3F39efNCaXLmxA=s64",
      "userId": "08717455413485940524"
     },
     "user_tz": -270
    },
    "id": "C4ZgMdRGO31S"
   },
   "outputs": [],
   "source": [
    "NUM_TRIALS = 3000\n",
    "EPS = 0.3\n",
    "BANDIT_PROBABILITIES = [0.2, 0.5, 0.75, 0.3]"
   ]
  },
  {
   "cell_type": "code",
   "execution_count": 3,
   "metadata": {
    "executionInfo": {
     "elapsed": 580,
     "status": "ok",
     "timestamp": 1619589833129,
     "user": {
      "displayName": "ali ghandi",
      "photoUrl": "https://lh3.googleusercontent.com/a-/AOh14GgpQfDUUwGAY8UikVPosVH-EO9X3F39efNCaXLmxA=s64",
      "userId": "08717455413485940524"
     },
     "user_tz": -270
    },
    "id": "Yke909qJO31S"
   },
   "outputs": [],
   "source": [
    "class Bandit:\n",
    "    def __init__(self, p):\n",
    "        self.p = p\n",
    "        self.p_estimate = 0.\n",
    "        self.N = 0. \n",
    "\n",
    "    def pull(self):\n",
    "        # draw a 1 with probability p\n",
    "        return np.random.random() < self.p\n",
    "\n",
    "    def update(self, x):\n",
    "        self.N += 1.\n",
    "        self.p_estimate = ((self.N - 1)*self.p_estimate + x) / self.N\n"
   ]
  },
  {
   "cell_type": "code",
   "execution_count": 4,
   "metadata": {
    "executionInfo": {
     "elapsed": 735,
     "status": "ok",
     "timestamp": 1619589833545,
     "user": {
      "displayName": "ali ghandi",
      "photoUrl": "https://lh3.googleusercontent.com/a-/AOh14GgpQfDUUwGAY8UikVPosVH-EO9X3F39efNCaXLmxA=s64",
      "userId": "08717455413485940524"
     },
     "user_tz": -270
    },
    "id": "zSp8tDvFO31T"
   },
   "outputs": [],
   "source": [
    "def experiment():\n",
    "    bandits = [Bandit(p) for p in BANDIT_PROBABILITIES] # Bandit arm machine built with known details\n",
    "\n",
    "    rewards = np.zeros(NUM_TRIALS) # save rewarsd for Each experiment TRIALS\n",
    "    num_times_explored = 0 # for more detail about TRIALS\n",
    "    num_times_exploited = 0 #same\n",
    "    num_optimal = 0 #same\n",
    "    optimal_j = np.argmax([bandit.p for bandit in bandits])#same\n",
    "    print(\"optimal j:\", optimal_j)#same\n",
    "\n",
    "    for i in range(NUM_TRIALS):\n",
    "\n",
    "        # use epsilon-greedy to select the next bandit\n",
    "        if np.random.random() < EPS:\n",
    "            num_times_explored += 1\n",
    "            j = np.random.randint(len(bandits))\n",
    "        else:\n",
    "            num_times_exploited += 1\n",
    "            j = np.argmax([b.p_estimate for b in bandits])\n",
    "\n",
    "        if j == optimal_j:\n",
    "            num_optimal += 1\n",
    "\n",
    "        # pull the arm for the bandit with the largest sample\n",
    "        x = bandits[j].pull()\n",
    "\n",
    "        # update rewards log\n",
    "        rewards[i] = x\n",
    "\n",
    "        # update the distribution for the bandit whose arm we just pulled\n",
    "        bandits[j].update(x)\n",
    "    \n",
    "    \n",
    "    for b in bandits:\n",
    "        print(\"Mean estimate:\", b.p_estimate)\n",
    "\n",
    "    # print total reward\n",
    "    print(\"Total reward earned:\", rewards.sum())\n",
    "    print(\"Overall win rate:\", rewards.sum() / NUM_TRIALS)\n",
    "    print(\"num of times_explored:\", num_times_explored)\n",
    "    print(\"num of times_exploited:\", num_times_exploited)\n",
    "    print(\"num times selected optimal bandit:\", num_optimal)\n",
    "\n",
    "    \n",
    "    # plot the results\n",
    "    cumulative_rewards = np.cumsum(rewards)\n",
    "    win_rates = cumulative_rewards / (np.arange(NUM_TRIALS) + 1)\n",
    "    plt.plot(win_rates)\n",
    "    plt.plot(np.ones(NUM_TRIALS)*np.max(BANDIT_PROBABILITIES))\n",
    "    plt.show()"
   ]
  },
  {
   "cell_type": "code",
   "execution_count": 5,
   "metadata": {
    "colab": {
     "base_uri": "https://localhost:8080/",
     "height": 421
    },
    "executionInfo": {
     "elapsed": 1360,
     "status": "ok",
     "timestamp": 1619589834510,
     "user": {
      "displayName": "ali ghandi",
      "photoUrl": "https://lh3.googleusercontent.com/a-/AOh14GgpQfDUUwGAY8UikVPosVH-EO9X3F39efNCaXLmxA=s64",
      "userId": "08717455413485940524"
     },
     "user_tz": -270
    },
    "id": "6yfxKON9O31T",
    "outputId": "42e4249a-4e2e-4110-92ae-58aa516bfb37"
   },
   "outputs": [
    {
     "name": "stdout",
     "output_type": "stream",
     "text": [
      "optimal j: 2\n",
      "Mean estimate: 0.1863799283154122\n",
      "Mean estimate: 0.4978723404255319\n",
      "Mean estimate: 0.7480245829675156\n",
      "Mean estimate: 0.27884615384615413\n",
      "Total reward earned: 1931.0\n",
      "Overall win rate: 0.6436666666666667\n",
      "num of times_explored: 895\n",
      "num of times_exploited: 2105\n",
      "num times selected optimal bandit: 2278\n"
     ]
    },
    {
     "data": {
      "image/png": "[encoded data removed]",
      "text/plain": [
       "<Figure size 640x480 with 1 Axes>"
      ]
     },
     "metadata": {},
     "output_type": "display_data"
    }
   ],
   "source": [
    "experiment()"
   ]
  },
  {
   "cell_type": "code",
   "execution_count": null,
   "metadata": {
    "id": "Tv38utAhO31U"
   },
   "outputs": [],
   "source": []
  }
 ],
 "metadata": {
  "colab": {
   "name": "epsilon_greedy.ipynb",
   "provenance": []
  },
  "kernelspec": {
   "display_name": ".Machine_Learning_classes",
   "language": "python",
   "name": ".machine_learning_classes"
  },
  "language_info": {
   "codemirror_mode": {
    "name": "ipython",
    "version": 3
   },
   "file_extension": ".py",
   "mimetype": "text/x-python",
   "name": "python",
   "nbconvert_exporter": "python",
   "pygments_lexer": "ipython3",
   "version": "3.11.2"
  }
 },
 "nbformat": 4,
 "nbformat_minor": 1
}
